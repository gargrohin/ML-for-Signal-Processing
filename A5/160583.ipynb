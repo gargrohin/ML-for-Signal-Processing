{
 "cells": [
  {
   "cell_type": "markdown",
   "metadata": {
    "colab_type": "text",
    "id": "uhlZDFJ9NFWy"
   },
   "source": [
    "# Model the Data\n",
    "Given a set of scalar data, you can model it with a suitable pdf. This exercise will help you learn the following:\n",
    "- How would you choose the best model to fit the given data?\n",
    "- How would you estimate the model parameters from the given data?\n",
    "- Given a model, how do you sample new data from it?\n",
    "\n",
    "Note: You are allowed to use only numpy and matplotlib libraries. No ML library."
   ]
  },
  {
   "cell_type": "code",
   "execution_count": 8,
   "metadata": {
    "colab": {},
    "colab_type": "code",
    "id": "XuHhiVLvNFW5"
   },
   "outputs": [],
   "source": [
    "import numpy as np\n",
    "np.random.seed(111)"
   ]
  },
  {
   "cell_type": "code",
   "execution_count": 9,
   "metadata": {
    "colab": {},
    "colab_type": "code",
    "id": "P0lz4oowN_6J"
   },
   "outputs": [],
   "source": [
    "import copy"
   ]
  },
  {
   "cell_type": "code",
   "execution_count": 10,
   "metadata": {
    "colab": {},
    "colab_type": "code",
    "id": "2CQnNfbPNFXK"
   },
   "outputs": [],
   "source": [
    "def data2gaussian(S):\n",
    "    '''\n",
    "    Return optimal parameters - (mu,sigma)\n",
    "    Inputs:\n",
    "        S: np array of shape (Ns,). These are samples of a random variable.\n",
    "    Outputs:\n",
    "        mu: float\n",
    "        sigma: float\n",
    "    '''\n",
    "\n",
    "    ### WRITE YOUR CODE HERE - 5 MARKS\n",
    "\n",
    "    mu = np.sum(S)/len(S)\n",
    "    sigma = 0\n",
    "    for x in S:\n",
    "      sigma = sigma + (x - mu)**2\n",
    "    sigma = sigma/len(S)\n",
    "    sigma = np.sqrt(sigma)\n",
    "\n",
    "    return mu, sigma"
   ]
  },
  {
   "cell_type": "code",
   "execution_count": 11,
   "metadata": {
    "colab": {
     "base_uri": "https://localhost:8080/",
     "height": 50
    },
    "colab_type": "code",
    "id": "svDQgObLNFXc",
    "outputId": "e5f30de7-e87d-4c7c-9c2c-b4835243c3b0"
   },
   "outputs": [
    {
     "name": "stdout",
     "output_type": "stream",
     "text": [
      "0.06000000000000001 0.19595917942265426\n",
      "Test passed 👍\n"
     ]
    }
   ],
   "source": [
    "def test_data2gaussian(): # checks formatting only\n",
    "    S = [0.1,-0.2,0.4,0,0]\n",
    "    mu, sigma = data2gaussian(S)\n",
    "    print(mu,sigma)\n",
    "    assert isinstance(mu, (int, float))\n",
    "    assert isinstance(sigma, (int, float))\n",
    "    print('Test passed', '\\U0001F44D')\n",
    "if __name__==\"__main__\":\n",
    "    test_data2gaussian()"
   ]
  },
  {
   "cell_type": "code",
   "execution_count": 12,
   "metadata": {
    "colab": {},
    "colab_type": "code",
    "id": "NvOWgr9CNFXo"
   },
   "outputs": [],
   "source": [
    "def data2laplacian(S):\n",
    "    '''\n",
    "    Return optimal parameters - (mu,b). See https://en.wikipedia.org/wiki/Laplace_distribution\n",
    "    Inputs:\n",
    "        S: np array of shape (Ns,). These are samples of a random variable.\n",
    "    Outputs:\n",
    "        mu: float\n",
    "        b: float\n",
    "    '''\n",
    "    mu = np.median(S)\n",
    "    b = 0\n",
    "    for x in S:\n",
    "      b = b + abs(x - mu)\n",
    "    b = b/len(S)\n",
    "\n",
    "    ### WRITE YOUR CODE HERE - 5 MARKS\n",
    "\n",
    "    return mu, b"
   ]
  },
  {
   "cell_type": "code",
   "execution_count": 13,
   "metadata": {
    "colab": {
     "base_uri": "https://localhost:8080/",
     "height": 50
    },
    "colab_type": "code",
    "id": "v0erOXPtNFXy",
    "outputId": "142b9e4f-2307-4664-91d5-e9abdc485f4e"
   },
   "outputs": [
    {
     "name": "stdout",
     "output_type": "stream",
     "text": [
      "0.0 0.14\n",
      "Test passed 👍\n"
     ]
    }
   ],
   "source": [
    "def test_data2laplacian(): # checks formatting only\n",
    "    S = [0.1,-0.2,0.4,0,0]\n",
    "    mu, b = data2laplacian(S)\n",
    "    print(mu,b)\n",
    "    assert isinstance(mu, (int, float))\n",
    "    assert isinstance(b, (int, float))\n",
    "    print('Test passed', '\\U0001F44D')\n",
    "if __name__==\"__main__\":\n",
    "    test_data2laplacian()"
   ]
  },
  {
   "cell_type": "code",
   "execution_count": 14,
   "metadata": {
    "colab": {},
    "colab_type": "code",
    "id": "38Rt1Q3WNFX-"
   },
   "outputs": [],
   "source": [
    "def data2uniform(S):\n",
    "    '''\n",
    "    Return optimal parameters - (a,b)\n",
    "    Inputs:\n",
    "        S: np array of shape (Ns,). These are samples of a random variable.\n",
    "    Outputs:\n",
    "        a: float\n",
    "        b: float\n",
    "    '''\n",
    "    b = np.max(S)\n",
    "    a = b - (np.max(S) - np.min(S))\n",
    "    # a = b - 2*(np.sum(S))/len(S)\n",
    "\n",
    "    ### WRITE YOUR CODE HERE - 5 MARKS\n",
    "\n",
    "    return a, b"
   ]
  },
  {
   "cell_type": "code",
   "execution_count": 15,
   "metadata": {
    "colab": {
     "base_uri": "https://localhost:8080/",
     "height": 50
    },
    "colab_type": "code",
    "id": "-b36viVWNFYK",
    "outputId": "9bfb638c-2337-4d29-8b88-16698bc554a8"
   },
   "outputs": [
    {
     "name": "stdout",
     "output_type": "stream",
     "text": [
      "-0.20000000000000007 0.4\n",
      "Test passed 👍\n"
     ]
    }
   ],
   "source": [
    "def test_data2uniform(): # checks formatting only\n",
    "    S = [0.1,-0.2,0.4,0,0]\n",
    "    a, b = data2uniform(S)\n",
    "    print(a,b)\n",
    "    assert isinstance(a, (int, float))\n",
    "    assert isinstance(b, (int, float))\n",
    "    print('Test passed', '\\U0001F44D')\n",
    "if __name__==\"__main__\":\n",
    "    test_data2uniform()"
   ]
  },
  {
   "cell_type": "code",
   "execution_count": 16,
   "metadata": {
    "colab": {},
    "colab_type": "code",
    "id": "4K9zf95vNFYY"
   },
   "outputs": [],
   "source": [
    "def gaussian(x, mu, sigma):\n",
    "  x = np.array(x)\n",
    "  return np.exp(-1*(x - mu)*(x-mu)/(2*(sigma**2)))/(np.sqrt(2*np.pi)*sigma)\n",
    "\n",
    "def laplacian(x,mu,b):\n",
    "  x = np.array(x)\n",
    "  return np.exp(-1*np.abs(x - mu)/b)/(2*b)\n",
    "\n",
    "def uniform(x,a,b):\n",
    "  u = []\n",
    "  for i in x:\n",
    "    if a<=i<=b:\n",
    "      u.append(1/(b-a))\n",
    "    else:\n",
    "      u.append(0)\n",
    "  return np.array(u)\n",
    "\n",
    "def data2model(S):\n",
    "    '''\n",
    "    Inputs:\n",
    "        S: np array of shape (Ns,). These are scalar samples of a random variable.\n",
    "    Outputs:\n",
    "        modelName: return one out of these - 'gaussian', 'laplacian', or \n",
    "                   'uniform' which best models the data\n",
    "    '''\n",
    "\n",
    "    ### WRITE YOUR CODE HERE - 10 MARKS\n",
    "\n",
    "    models = ['gaussian', 'laplacian', 'uniform']\n",
    "\n",
    "    mu,sigma = data2gaussian(S)\n",
    "    mu_l, b_l = data2laplacian(S)\n",
    "    a,b = data2uniform(S)\n",
    "\n",
    "    likelihood = []\n",
    "    likelihood.append(np.sum(np.log10(gaussian(S, mu,sigma))))\n",
    "    likelihood.append(np.sum(np.log10(laplacian(S, mu_l,b_l))))\n",
    "    likelihood.append(np.sum(np.log10(uniform(S, a,b))))\n",
    "\n",
    "    modelName = models[np.argmax(likelihood)]\n",
    "\n",
    "    return modelName"
   ]
  },
  {
   "cell_type": "code",
   "execution_count": 17,
   "metadata": {
    "colab": {
     "base_uri": "https://localhost:8080/",
     "height": 34
    },
    "colab_type": "code",
    "id": "pTUcRjvBNFYo",
    "outputId": "454be734-834f-48be-9cba-fb43ace148a1"
   },
   "outputs": [
    {
     "name": "stdout",
     "output_type": "stream",
     "text": [
      "Test passed 👍\n"
     ]
    }
   ],
   "source": [
    "def test_data2model(): # checks formatting only\n",
    "    S = [0.1,-0.2,0.4,0,0]\n",
    "    modelName = data2model(S)\n",
    "    assert modelName in ['gaussian', 'laplacian', 'uniform']\n",
    "    print('Test passed', '\\U0001F44D')\n",
    "if __name__==\"__main__\":\n",
    "    test_data2model()"
   ]
  },
  {
   "cell_type": "code",
   "execution_count": 18,
   "metadata": {
    "colab": {},
    "colab_type": "code",
    "id": "ROJM-02jNFYz"
   },
   "outputs": [],
   "source": [
    "def sampleGMM(pi, mu, sigma, Ns=1):\n",
    "    '''\n",
    "    Inputs:\n",
    "        pi: np.array of shape (K,), p(z_k)\n",
    "        mu: np.array of shape (K,), mu of kth gaussian\n",
    "        sigma: np.array of shape (K,), sigma of kth gaussian\n",
    "        Ns: int, number of samples\n",
    "    Outputs:\n",
    "        S: np.array of shape (Ns,), samples from the GMM\n",
    "    '''\n",
    "\n",
    "    ### WRITE YOUR CODE HERE - 10 MARKS\n",
    "\n",
    "    S = []\n",
    "    for i in range(Ns):\n",
    "      k = np.random.choice(np.arange(0,len(pi)), p=pi)\n",
    "      x = np.random.normal(mu[k],sigma[k],1)\n",
    "      S.append(x[0])\n",
    "    \n",
    "    S = np.array(S)\n",
    "\n",
    "\n",
    "\n",
    "\n",
    "    return S"
   ]
  },
  {
   "cell_type": "code",
   "execution_count": 19,
   "metadata": {
    "colab": {
     "base_uri": "https://localhost:8080/",
     "height": 34
    },
    "colab_type": "code",
    "id": "V-jbvJV4NFY9",
    "outputId": "25f11eb6-fe2f-42a6-e978-ec1969c8a1d5"
   },
   "outputs": [
    {
     "name": "stdout",
     "output_type": "stream",
     "text": [
      "Test passed 👍\n"
     ]
    }
   ],
   "source": [
    "def test_sampleGMM(): # checks formatting only\n",
    "    pi = [0.3,0.7]\n",
    "    mu = [-1.1, 1.3]\n",
    "    sigma = [1.5, 0.4]\n",
    "    Ns = 5\n",
    "    S = sampleGMM(pi, mu, sigma, Ns)\n",
    "    assert S.shape==(5,)\n",
    "    print('Test passed', '\\U0001F44D')\n",
    "if __name__==\"__main__\":\n",
    "    test_sampleGMM()"
   ]
  },
  {
   "cell_type": "code",
   "execution_count": 25,
   "metadata": {
    "colab": {},
    "colab_type": "code",
    "id": "5Dlj4XdqNFZH"
   },
   "outputs": [],
   "source": [
    "np.random.seed(0)\n",
    "\n",
    "def multi_gaussian(x, mu, sigma):\n",
    "  x = np.array(x)\n",
    "  ans = -(0.5)* np.dot(np.dot((x - mu), np.linalg.inv(sigma)) , (x-mu).T)\n",
    "  ans = np.exp(ans)\n",
    "  k = mu.shape[0]\n",
    "  det = np.linalg.det(sigma)\n",
    "  if det<=0:\n",
    "    det = 10**(-2)\n",
    "  ans = ans/np.sqrt((2*np.pi)**(k)*det)\n",
    "\n",
    "  return ans\n",
    "\n",
    "def data2GMM(S, K):\n",
    "    '''\n",
    "    Return optimal parameters - (pi,mu,sigma)\n",
    "    Inputs:\n",
    "        S: np array of shape (Ns,Na). These are samples of a random variable. Na can be 1, 2 or 3\n",
    "    Outputs:\n",
    "        pi: np array of shape (K,)\n",
    "        mu: np array of shape (K,Na)\n",
    "        sigma: np array of shape (K,Na,Na)\n",
    "    '''\n",
    "\n",
    "    ### WRITE YOUR CODE HERE - 15 MARKS\n",
    "\n",
    "    \n",
    "    # initialization\n",
    "    pi = np.array([1/K]*K)\n",
    "    Ns = S.shape[0]\n",
    "    dim = S.shape[1]\n",
    "    sigma = np.random.random((K,dim,dim))\n",
    "    mu = np.random.random((K,dim))\n",
    "\n",
    "    r = np.zeros((Ns,dim))\n",
    "    for i in range(Ns):\n",
    "      S_i = np.expand_dims(S[i],axis = 0)\n",
    "      s = 0\n",
    "      for k in range(K):\n",
    "        mu_k = np.expand_dims(mu[k],axis = 0)\n",
    "        s = s + pi[k]*multi_gaussian(S_i, mu_k, sigma[k])\n",
    "      for k in range(K):\n",
    "        r[i][k] = pi[k]*multi_gaussian(S_i, mu_k, sigma[k])/s\n",
    "\n",
    "    \n",
    "    \n",
    "    eps = 10**(-3)\n",
    "    ct = 0\n",
    "\n",
    "\n",
    "    while 1:\n",
    "      ct+=1\n",
    "      # print(ct)\n",
    "      mu_old = copy.deepcopy(mu)\n",
    "      sigma_old = copy.deepcopy(sigma)\n",
    "      pi_old = copy.deepcopy(pi)\n",
    "\n",
    "      #pi\n",
    "      for i in range(K):\n",
    "        c = 0\n",
    "        for j in range(Ns):\n",
    "          c = c + r[j][i]\n",
    "        pi[i] = c/Ns\n",
    "\n",
    "      #mu\n",
    "      for i in range(K):\n",
    "        x = np.zeros((dim))\n",
    "        c = 0\n",
    "        for j in range(Ns):\n",
    "          c = c + r[j][i]\n",
    "          x = x + r[j][i]*S[j]\n",
    "        if c!=0:\n",
    "          mu[i] = x/c\n",
    "      \n",
    "      #sigma\n",
    "      for i in range(K):\n",
    "        x = np.zeros((dim,dim))\n",
    "        c = 0\n",
    "        mu_k = np.expand_dims(mu[i],axis = 0)\n",
    "        for j in range(Ns):\n",
    "          S_j = np.expand_dims(S[j],axis = 0)\n",
    "          c = c + r[j][i]\n",
    "          x = x + r[j][i]*np.matmul((S_j - mu_k).T, (S_j - mu_k))\n",
    "        if c!=0:\n",
    "          sigma[i] = x/c\n",
    "      \n",
    "      # try:\n",
    "      #   for k in range(K):\n",
    "      #     inv = np.linalg.inv(sigma[k])\n",
    "      # except:\n",
    "      #   print(sigma[k])\n",
    "      #   print(\"here\")\n",
    "      #   break\n",
    "      \n",
    "      #r\n",
    "      for i in range(Ns):\n",
    "        S_i = np.expand_dims(S[i],axis = 0)\n",
    "        s = 0\n",
    "        for k in range(K):\n",
    "          mu_k = np.expand_dims(mu[k],axis = 0)\n",
    "          s = s + pi[k]*multi_gaussian(S_i, mu_k, sigma[k])\n",
    "        for k in range(K):\n",
    "          r[i][k] = pi[k]*multi_gaussian(S_i, mu_k, sigma[k])/s\n",
    "\n",
    "      #convergence\n",
    "      change = np.linalg.norm(mu - mu_old) + np.linalg.norm(sigma - sigma_old) + np.linalg.norm(pi - pi_old)\n",
    "      if change < eps:\n",
    "        break\n",
    "\n",
    "    return pi, mu, sigma"
   ]
  },
  {
   "cell_type": "code",
   "execution_count": 24,
   "metadata": {
    "colab": {
     "base_uri": "https://localhost:8080/",
     "height": 34
    },
    "colab_type": "code",
    "id": "Jph8qHrPNFZQ",
    "outputId": "271d7f8e-6f49-4141-83b3-a789633a668b"
   },
   "outputs": [
    {
     "name": "stdout",
     "output_type": "stream",
     "text": [
      "Test passed 👍\n"
     ]
    }
   ],
   "source": [
    "def test_data2GMM(): # checks formatting only\n",
    "    np.random.seed(0)\n",
    "    S = np.random.random((10,3))\n",
    "    pi, mu, sigma = data2GMM(S,2)\n",
    "    assert pi.shape==(2,)\n",
    "    assert mu.shape==(2,3)\n",
    "    assert sigma.shape==(2,3,3)\n",
    "    print('Test passed', '\\U0001F44D')\n",
    "if __name__==\"__main__\":\n",
    "    test_data2GMM()"
   ]
  }
 ],
 "metadata": {
  "colab": {
   "collapsed_sections": [],
   "name": "160583.ipynb",
   "provenance": []
  },
  "kernelspec": {
   "display_name": "Python 3",
   "language": "python",
   "name": "python3"
  },
  "language_info": {
   "codemirror_mode": {
    "name": "ipython",
    "version": 3
   },
   "file_extension": ".py",
   "mimetype": "text/x-python",
   "name": "python",
   "nbconvert_exporter": "python",
   "pygments_lexer": "ipython3",
   "version": "3.6.8"
  }
 },
 "nbformat": 4,
 "nbformat_minor": 1
}
