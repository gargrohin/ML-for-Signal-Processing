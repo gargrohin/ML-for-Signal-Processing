{
 "cells": [
  {
   "cell_type": "code",
   "execution_count": 25,
   "metadata": {},
   "outputs": [],
   "source": [
    "import numpy as np\n",
    "np.random.seed(2)\n",
    "import copy"
   ]
  },
  {
   "cell_type": "code",
   "execution_count": 4,
   "metadata": {},
   "outputs": [
    {
     "data": {
      "text/plain": [
       "0"
      ]
     },
     "execution_count": 4,
     "metadata": {},
     "output_type": "execute_result"
    }
   ],
   "source": [
    "import signal\n",
    "def signal_handler(signum, frame):\n",
    "    raise Exception(\"Timed out!\")\n",
    "signal.signal(signal.SIGALRM, signal_handler)\n",
    "signal.alarm(2*60)   # seconds"
   ]
  },
  {
   "cell_type": "code",
   "execution_count": 5,
   "metadata": {},
   "outputs": [],
   "source": [
    "def sol_data2gaussian(S):\n",
    "    mu = np.sum(S)/len(S)\n",
    "    sigma2 = np.sum((S-mu)**2)/len(S)\n",
    "    sigma = np.sqrt(sigma2)\n",
    "    \n",
    "    return mu,sigma"
   ]
  },
  {
   "cell_type": "code",
   "execution_count": 6,
   "metadata": {},
   "outputs": [],
   "source": [
    "def data2gaussian():\n",
    "    S = np.random.normal(10.5, .2, 50)\n",
    "    mu1, sigma1 = my_data2gaussian(S)\n",
    "    \n",
    "    mu,sigma = my_data2gaussian(S)\n",
    "    assert np.isclose(mu, mu1, atol=.001), mu\n",
    "    assert np.isclose(sigma, sigma1, atol=.001), sigma\n",
    "    return"
   ]
  },
  {
   "cell_type": "code",
   "execution_count": 7,
   "metadata": {},
   "outputs": [],
   "source": [
    "def my_data2gaussian(S):\n",
    "    '''\n",
    "    Return optimal parameters - (mu,sigma)\n",
    "    Inputs:\n",
    "        S: np array of shape (Ns,). These are samples of a random variable.\n",
    "    Outputs:\n",
    "        mu: float\n",
    "        sigma: float\n",
    "    '''\n",
    "\n",
    "    ### WRITE YOUR CODE HERE - 5 MARKS\n",
    "\n",
    "    mu = np.sum(S)/len(S)\n",
    "    sigma = 0\n",
    "    for x in S:\n",
    "      sigma = sigma + (x - mu)**2\n",
    "    sigma = sigma/len(S)\n",
    "    sigma = np.sqrt(sigma)\n",
    "\n",
    "    return mu, sigma"
   ]
  },
  {
   "cell_type": "code",
   "execution_count": 8,
   "metadata": {},
   "outputs": [],
   "source": [
    "data2gaussian()"
   ]
  },
  {
   "cell_type": "code",
   "execution_count": 9,
   "metadata": {},
   "outputs": [],
   "source": [
    "def sol_data2laplacian(S):\n",
    "   \n",
    "    mu = np.median(S)\n",
    "    b = np.sum(np.abs(S-mu))/len(S)\n",
    "    return mu, b"
   ]
  },
  {
   "cell_type": "code",
   "execution_count": 10,
   "metadata": {},
   "outputs": [],
   "source": [
    "def my_data2laplacian(S):\n",
    "    '''\n",
    "    Return optimal parameters - (mu,b). See https://en.wikipedia.org/wiki/Laplace_distribution\n",
    "    Inputs:\n",
    "        S: np array of shape (Ns,). These are samples of a random variable.\n",
    "    Outputs:\n",
    "        mu: float\n",
    "        b: float\n",
    "    '''\n",
    "    mu = np.median(S)\n",
    "    b = 0\n",
    "    for x in S:\n",
    "      b = b + abs(x - mu)\n",
    "    b = b/len(S)\n",
    "\n",
    "    ### WRITE YOUR CODE HERE - 5 MARKS\n",
    "\n",
    "    return mu, b"
   ]
  },
  {
   "cell_type": "code",
   "execution_count": 11,
   "metadata": {},
   "outputs": [],
   "source": [
    "def data2laplacian():\n",
    "    S = np.random.normal(10.5, .2, 50)\n",
    "    mu1, b1 = my_data2laplacian(S)\n",
    "    \n",
    "    mu,b = my_data2laplacian(S)\n",
    "    \n",
    "    assert np.isclose(mu, mu1, atol=.001), mu\n",
    "    assert np.isclose(b, b1, atol=.001), b\n",
    "    return"
   ]
  },
  {
   "cell_type": "code",
   "execution_count": 12,
   "metadata": {},
   "outputs": [],
   "source": [
    "data2laplacian()"
   ]
  },
  {
   "cell_type": "code",
   "execution_count": 13,
   "metadata": {},
   "outputs": [],
   "source": [
    "def sol_data2uniform(S):\n",
    "    a = np.min(S)\n",
    "    b = np.max(S)\n",
    "    return a, b"
   ]
  },
  {
   "cell_type": "code",
   "execution_count": 14,
   "metadata": {},
   "outputs": [],
   "source": [
    "def my_data2uniform(S):\n",
    "    '''\n",
    "    Return optimal parameters - (a,b)\n",
    "    Inputs:\n",
    "        S: np array of shape (Ns,). These are samples of a random variable.\n",
    "    Outputs:\n",
    "        a: float\n",
    "        b: float\n",
    "    '''\n",
    "    b = np.max(S)\n",
    "    a = b - (np.max(S) - np.min(S))\n",
    "    # a = b - 2*(np.sum(S))/len(S)\n",
    "\n",
    "    ### WRITE YOUR CODE HERE - 5 MARKS\n",
    "\n",
    "    return a, b"
   ]
  },
  {
   "cell_type": "code",
   "execution_count": 15,
   "metadata": {},
   "outputs": [],
   "source": [
    "def data2uniform():\n",
    "    S = np.random.normal(10.5, .2, 50)\n",
    "    a1,b1 = my_data2uniform(S)\n",
    "    \n",
    "    a,b = my_data2uniform(S)\n",
    "    \n",
    "    assert np.isclose(a, a1, atol=.001), a\n",
    "    assert np.isclose(b, b1, atol=.001), b\n",
    "    return\n",
    "    "
   ]
  },
  {
   "cell_type": "code",
   "execution_count": 16,
   "metadata": {},
   "outputs": [],
   "source": [
    "data2uniform()"
   ]
  },
  {
   "cell_type": "code",
   "execution_count": 17,
   "metadata": {},
   "outputs": [],
   "source": [
    "def data2model():\n",
    "    S = np.random.normal(10.5, .2, 500)\n",
    "    modelName1 = my_data2model(S)\n",
    "    \n",
    "    modelName = \"gaussian\"\n",
    "    assert modelName == modelName1, modelName\n",
    "\n",
    "    S = np.random.laplace(2, 1, 500)\n",
    "    modelName1 =  my_data2model(S)\n",
    "    \n",
    "    modelName = \"laplacian\"\n",
    "    assert modelName == modelName1, modelName\n",
    "    \n",
    "    S = np.random.uniform(0, 1, 500)\n",
    "    modelName1 =  my_data2model(S)\n",
    "    \n",
    "    modelName = \"uniform\"\n",
    "    assert modelName == modelName1, modelName\n",
    "    return"
   ]
  },
  {
   "cell_type": "code",
   "execution_count": 18,
   "metadata": {},
   "outputs": [],
   "source": [
    "def sol_sampleGMM(pi, mu, sigma, Ns=1):\n",
    "   \n",
    "    K=len(pi)\n",
    "    S=[]\n",
    "    for i in range(Ns):\n",
    "        z = np.random.choice(np.arange(K), p=pi)\n",
    "        sample  =np.random.normal(mu[z],sigma[z])\n",
    "        S.append(sample)\n",
    "    \n",
    "    S=np.array(S)\n",
    "    \n",
    "    \n",
    "    return S"
   ]
  },
  {
   "cell_type": "code",
   "execution_count": 19,
   "metadata": {},
   "outputs": [],
   "source": [
    "def my_sampleGMM(pi, mu, sigma, Ns=1):\n",
    "    '''\n",
    "    Inputs:\n",
    "        pi: np.array of shape (K,), p(z_k)\n",
    "        mu: np.array of shape (K,), mu of kth gaussian\n",
    "        sigma: np.array of shape (K,), sigma of kth gaussian\n",
    "        Ns: int, number of samples\n",
    "    Outputs:\n",
    "        S: np.array of shape (Ns,), samples from the GMM\n",
    "    '''\n",
    "\n",
    "    ### WRITE YOUR CODE HERE - 10 MARKS\n",
    "\n",
    "    S = []\n",
    "    for i in range(Ns):\n",
    "      k = np.random.choice(np.arange(0,len(pi)), p=pi)\n",
    "      x = np.random.normal(mu[k],sigma[k],1)\n",
    "      S.append(x[0])\n",
    "    \n",
    "    S = np.array(S)\n",
    "\n",
    "\n",
    "\n",
    "\n",
    "    return S"
   ]
  },
  {
   "cell_type": "code",
   "execution_count": 20,
   "metadata": {},
   "outputs": [],
   "source": [
    "def sampleGMM():\n",
    "    \n",
    "       \n",
    "    pi = [0,1]\n",
    "    mu = [-1.1, 1.3]\n",
    "    sigma = [1.5, 0.4]\n",
    "    Ns = 500\n",
    "    S1 = my_sampleGMM(pi, mu, sigma, Ns)\n",
    "    mu1 = np.mean(S1)\n",
    "    sigma1 = np.std(S1)\n",
    "        \n",
    "    assert np.isclose(mu[1], mu1, atol=.1), mu\n",
    "    assert np.isclose(sigma[1], sigma1, atol=.1), sigma\n",
    "    return\n",
    "    \n",
    "    \n",
    "    \n",
    "    "
   ]
  },
  {
   "cell_type": "code",
   "execution_count": 21,
   "metadata": {},
   "outputs": [],
   "source": [
    "sampleGMM()"
   ]
  },
  {
   "cell_type": "code",
   "execution_count": 28,
   "metadata": {},
   "outputs": [],
   "source": [
    "np.random.seed(0)\n",
    "\n",
    "def multi_gaussian(x, mu, sigma):\n",
    "  x = np.array(x)\n",
    "  ans = -(0.5)* np.dot(np.dot((x - mu), np.linalg.inv(sigma)) , (x-mu).T)\n",
    "  ans = np.exp(ans)\n",
    "  k = mu.shape[0]\n",
    "  det = np.linalg.det(sigma)\n",
    "  if det<=0:\n",
    "    det = 10**(-2)\n",
    "  ans = ans/np.sqrt((2*np.pi)**(k)*det)\n",
    "\n",
    "  return ans\n",
    "\n",
    "def my_data2GMM(S, K):\n",
    "    '''\n",
    "    Return optimal parameters - (pi,mu,sigma)\n",
    "    Inputs:\n",
    "        S: np array of shape (Ns,Na). These are samples of a random variable. Na can be 1, 2 or 3\n",
    "    Outputs:\n",
    "        pi: np array of shape (K,)\n",
    "        mu: np array of shape (K,Na)\n",
    "        sigma: np array of shape (K,Na,Na)\n",
    "    '''\n",
    "\n",
    "    ### WRITE YOUR CODE HERE - 15 MARKS\n",
    "\n",
    "    \n",
    "    # initialization\n",
    "    pi = np.array([1/K]*K)\n",
    "    Ns = S.shape[0]\n",
    "    dim = S.shape[1]\n",
    "    sigma = np.random.random((K,dim,dim))\n",
    "    mu = np.random.random((K,dim))\n",
    "\n",
    "    r = np.zeros((Ns,dim))\n",
    "    for i in range(Ns):\n",
    "      S_i = np.expand_dims(S[i],axis = 0)\n",
    "      s = 0\n",
    "      for k in range(K):\n",
    "        mu_k = np.expand_dims(mu[k],axis = 0)\n",
    "        s = s + pi[k]*multi_gaussian(S_i, mu_k, sigma[k])\n",
    "      for k in range(K):\n",
    "        r[i][k] = pi[k]*multi_gaussian(S_i, mu_k, sigma[k])/s\n",
    "\n",
    "    \n",
    "    \n",
    "    eps = 10**(-3)\n",
    "    ct = 0\n",
    "\n",
    "\n",
    "    while 1:\n",
    "      ct+=1\n",
    "      # print(ct)\n",
    "      mu_old = copy.deepcopy(mu)\n",
    "      sigma_old = copy.deepcopy(sigma)\n",
    "      pi_old = copy.deepcopy(pi)\n",
    "\n",
    "      #pi\n",
    "      for i in range(K):\n",
    "        c = 0\n",
    "        for j in range(Ns):\n",
    "          c = c + r[j][i]\n",
    "        pi[i] = c/Ns\n",
    "\n",
    "      #mu\n",
    "      for i in range(K):\n",
    "        x = np.zeros((dim))\n",
    "        c = 0\n",
    "        for j in range(Ns):\n",
    "          c = c + r[j][i]\n",
    "          x = x + r[j][i]*S[j]\n",
    "        if c!=0:\n",
    "          mu[i] = x/c\n",
    "      \n",
    "      #sigma\n",
    "      for i in range(K):\n",
    "        x = np.zeros((dim,dim))\n",
    "        c = 0\n",
    "        mu_k = np.expand_dims(mu[i],axis = 0)\n",
    "        for j in range(Ns):\n",
    "          S_j = np.expand_dims(S[j],axis = 0)\n",
    "          c = c + r[j][i]\n",
    "          x = x + r[j][i]*np.matmul((S_j - mu_k).T, (S_j - mu_k))\n",
    "        if c!=0:\n",
    "          sigma[i] = x/c\n",
    "      \n",
    "      # try:\n",
    "      #   for k in range(K):\n",
    "      #     inv = np.linalg.inv(sigma[k])\n",
    "      # except:\n",
    "      #   print(sigma[k])\n",
    "      #   print(\"here\")\n",
    "      #   break\n",
    "      \n",
    "      #r\n",
    "      for i in range(Ns):\n",
    "        S_i = np.expand_dims(S[i],axis = 0)\n",
    "        s = 0\n",
    "        for k in range(K):\n",
    "          mu_k = np.expand_dims(mu[k],axis = 0)\n",
    "          s = s + pi[k]*multi_gaussian(S_i, mu_k, sigma[k])\n",
    "        for k in range(K):\n",
    "          r[i][k] = pi[k]*multi_gaussian(S_i, mu_k, sigma[k])/s\n",
    "\n",
    "      #convergence\n",
    "      change = np.linalg.norm(mu - mu_old) + np.linalg.norm(sigma - sigma_old) + np.linalg.norm(pi - pi_old)\n",
    "      if change < eps:\n",
    "        break\n",
    "\n",
    "    return pi, mu, sigma"
   ]
  },
  {
   "cell_type": "code",
   "execution_count": 31,
   "metadata": {},
   "outputs": [],
   "source": [
    "def data2GMM():\n",
    "    pi = [0.5,0.5]\n",
    "    mu = [-10.1, 10.3]\n",
    "    sigma = [0.5, 0.4]\n",
    "    Ns = 500\n",
    "    S = my_sampleGMM(pi, mu, sigma, Ns)\n",
    "    S = S.reshape(-1,1)\n",
    "    c = 0\n",
    "    \n",
    "    for _ in range(2):\n",
    "        try:\n",
    "            pi1,mu1,sigma1 = my_data2GMM(S,2)\n",
    "        except Exception as msg:\n",
    "            print(msg)\n",
    "        mu1 = np.sort(mu1.reshape(-1))\n",
    "        print(mu)\n",
    "        print(mu1)\n",
    "        if np.all(np.isclose(mu, mu1, atol=.1)):\n",
    "            c = c+1\n",
    "            break\n",
    "        print(\"another try:\", c)\n",
    "            \n",
    "    assert(c>0)\n",
    "        \n",
    "    return"
   ]
  },
  {
   "cell_type": "code",
   "execution_count": 30,
   "metadata": {
    "scrolled": true
   },
   "outputs": [
    {
     "ename": "IndexError",
     "evalue": "index 1 is out of bounds for axis 0 with size 1",
     "output_type": "error",
     "traceback": [
      "\u001b[0;31m---------------------------------------------------------------------------\u001b[0m",
      "\u001b[0;31mIndexError\u001b[0m                                Traceback (most recent call last)",
      "\u001b[0;32m<ipython-input-30-f84650cdd9d7>\u001b[0m in \u001b[0;36m<module>\u001b[0;34m()\u001b[0m\n\u001b[0;32m----> 1\u001b[0;31m \u001b[0mdata2GMM\u001b[0m\u001b[0;34m(\u001b[0m\u001b[0;34m)\u001b[0m\u001b[0;34m\u001b[0m\u001b[0;34m\u001b[0m\u001b[0m\n\u001b[0m",
      "\u001b[0;32m<ipython-input-29-bcfcfe0fe3ed>\u001b[0m in \u001b[0;36mdata2GMM\u001b[0;34m()\u001b[0m\n\u001b[1;32m      9\u001b[0m \u001b[0;34m\u001b[0m\u001b[0m\n\u001b[1;32m     10\u001b[0m     \u001b[0;32mfor\u001b[0m \u001b[0m_\u001b[0m \u001b[0;32min\u001b[0m \u001b[0mrange\u001b[0m\u001b[0;34m(\u001b[0m\u001b[0;36m2\u001b[0m\u001b[0;34m)\u001b[0m\u001b[0;34m:\u001b[0m\u001b[0;34m\u001b[0m\u001b[0;34m\u001b[0m\u001b[0m\n\u001b[0;32m---> 11\u001b[0;31m         \u001b[0mpi1\u001b[0m\u001b[0;34m,\u001b[0m\u001b[0mmu1\u001b[0m\u001b[0;34m,\u001b[0m\u001b[0msigma1\u001b[0m \u001b[0;34m=\u001b[0m \u001b[0mmy_data2GMM\u001b[0m\u001b[0;34m(\u001b[0m\u001b[0mS\u001b[0m\u001b[0;34m,\u001b[0m\u001b[0;36m2\u001b[0m\u001b[0;34m)\u001b[0m\u001b[0;34m\u001b[0m\u001b[0;34m\u001b[0m\u001b[0m\n\u001b[0m\u001b[1;32m     12\u001b[0m         \u001b[0;32mtry\u001b[0m\u001b[0;34m:\u001b[0m\u001b[0;34m\u001b[0m\u001b[0;34m\u001b[0m\u001b[0m\n\u001b[1;32m     13\u001b[0m             \u001b[0mpi1\u001b[0m\u001b[0;34m,\u001b[0m\u001b[0mmu1\u001b[0m\u001b[0;34m,\u001b[0m\u001b[0msigma1\u001b[0m \u001b[0;34m=\u001b[0m \u001b[0mmy_data2GMM\u001b[0m\u001b[0;34m(\u001b[0m\u001b[0mS\u001b[0m\u001b[0;34m,\u001b[0m\u001b[0;36m2\u001b[0m\u001b[0;34m)\u001b[0m\u001b[0;34m\u001b[0m\u001b[0;34m\u001b[0m\u001b[0m\n",
      "\u001b[0;32m<ipython-input-28-e5add64b1618>\u001b[0m in \u001b[0;36mmy_data2GMM\u001b[0;34m(S, K)\u001b[0m\n\u001b[1;32m     42\u001b[0m         \u001b[0ms\u001b[0m \u001b[0;34m=\u001b[0m \u001b[0ms\u001b[0m \u001b[0;34m+\u001b[0m \u001b[0mpi\u001b[0m\u001b[0;34m[\u001b[0m\u001b[0mk\u001b[0m\u001b[0;34m]\u001b[0m\u001b[0;34m*\u001b[0m\u001b[0mmulti_gaussian\u001b[0m\u001b[0;34m(\u001b[0m\u001b[0mS_i\u001b[0m\u001b[0;34m,\u001b[0m \u001b[0mmu_k\u001b[0m\u001b[0;34m,\u001b[0m \u001b[0msigma\u001b[0m\u001b[0;34m[\u001b[0m\u001b[0mk\u001b[0m\u001b[0;34m]\u001b[0m\u001b[0;34m)\u001b[0m\u001b[0;34m\u001b[0m\u001b[0;34m\u001b[0m\u001b[0m\n\u001b[1;32m     43\u001b[0m       \u001b[0;32mfor\u001b[0m \u001b[0mk\u001b[0m \u001b[0;32min\u001b[0m \u001b[0mrange\u001b[0m\u001b[0;34m(\u001b[0m\u001b[0mK\u001b[0m\u001b[0;34m)\u001b[0m\u001b[0;34m:\u001b[0m\u001b[0;34m\u001b[0m\u001b[0;34m\u001b[0m\u001b[0m\n\u001b[0;32m---> 44\u001b[0;31m         \u001b[0mr\u001b[0m\u001b[0;34m[\u001b[0m\u001b[0mi\u001b[0m\u001b[0;34m]\u001b[0m\u001b[0;34m[\u001b[0m\u001b[0mk\u001b[0m\u001b[0;34m]\u001b[0m \u001b[0;34m=\u001b[0m \u001b[0mpi\u001b[0m\u001b[0;34m[\u001b[0m\u001b[0mk\u001b[0m\u001b[0;34m]\u001b[0m\u001b[0;34m*\u001b[0m\u001b[0mmulti_gaussian\u001b[0m\u001b[0;34m(\u001b[0m\u001b[0mS_i\u001b[0m\u001b[0;34m,\u001b[0m \u001b[0mmu_k\u001b[0m\u001b[0;34m,\u001b[0m \u001b[0msigma\u001b[0m\u001b[0;34m[\u001b[0m\u001b[0mk\u001b[0m\u001b[0;34m]\u001b[0m\u001b[0;34m)\u001b[0m\u001b[0;34m/\u001b[0m\u001b[0ms\u001b[0m\u001b[0;34m\u001b[0m\u001b[0;34m\u001b[0m\u001b[0m\n\u001b[0m\u001b[1;32m     45\u001b[0m \u001b[0;34m\u001b[0m\u001b[0m\n\u001b[1;32m     46\u001b[0m \u001b[0;34m\u001b[0m\u001b[0m\n",
      "\u001b[0;31mIndexError\u001b[0m: index 1 is out of bounds for axis 0 with size 1"
     ]
    }
   ],
   "source": [
    "data2GMM()"
   ]
  },
  {
   "cell_type": "code",
   "execution_count": null,
   "metadata": {},
   "outputs": [],
   "source": []
  }
 ],
 "metadata": {
  "kernelspec": {
   "display_name": "Python 3",
   "language": "python",
   "name": "python3"
  },
  "language_info": {
   "codemirror_mode": {
    "name": "ipython",
    "version": 3
   },
   "file_extension": ".py",
   "mimetype": "text/x-python",
   "name": "python",
   "nbconvert_exporter": "python",
   "pygments_lexer": "ipython3",
   "version": "3.6.8"
  }
 },
 "nbformat": 4,
 "nbformat_minor": 2
}
