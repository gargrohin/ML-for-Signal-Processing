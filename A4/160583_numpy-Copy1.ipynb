{
 "cells": [
  {
   "cell_type": "code",
   "execution_count": 16,
   "metadata": {
    "colab": {
     "base_uri": "https://localhost:8080/",
     "height": 51
    },
    "colab_type": "code",
    "id": "hewsBv12weZ2",
    "outputId": "52407420-e7e5-4ca6-952b-6448ffe4b101",
    "scrolled": false
   },
   "outputs": [
    {
     "name": "stdout",
     "output_type": "stream",
     "text": [
      "Test Accuracy: 1.0\n",
      "Confusion Matrix on test data. X axis are predicted, Y axis are ground truth\n",
      "[[11.  0.  0.]\n",
      " [ 0. 13.  0.]\n",
      " [ 0.  0.  6.]]\n"
     ]
    },
    {
     "data": {
      "image/png": "[encoded data removed]",
      "text/plain": [
       "<Figure size 432x288 with 1 Axes>"
      ]
     },
     "metadata": {
      "needs_background": "light"
     },
     "output_type": "display_data"
    }
   ],
   "source": [
    "np.random.seed(0)\n",
    "\n",
    "def experiment():\n",
    "\n",
    "    ### WRITE YOUR CODE HERE - 10 MARKS\n",
    "    \n",
    "    X,t = loadIrisData()\n",
    "    classes = []\n",
    "    for y in t:\n",
    "        if y not in classes:\n",
    "            classes.append(y)\n",
    "    \n",
    "    no = len(classes)\n",
    "    \n",
    "    X_train, t_train, X_test, t_test = splitData(X,t)\n",
    "    X_train , X_test = normalizeX(X_train, X_test)\n",
    "    t_train = one_hot_encoding(t_train , no)\n",
    "    \n",
    "    model = NeuralNetwork(4 , 5, no)\n",
    "    \n",
    "    loss = model.fit(X_train,t_train, eta=0.01, epochs=200)\n",
    "    \n",
    "    plt.plot(loss)\n",
    "    plt.xlabel(\"Epoch\")\n",
    "    plt.ylabel(\"Loss\")\n",
    "    plt.title(\"Loss vs Epoch\")\n",
    "    \n",
    "    y_pred = model.predict_label(X_test)\n",
    "    \n",
    "    CM = getCM(y_pred,t_test,no)\n",
    "    print(\"Confusion Matrix on test data. X axis are predicted, Y axis are ground truth\")\n",
    "    print(CM)\n",
    "\n",
    "    \n",
    "if __name__==\"__main__\":\n",
    "    experiment()"
   ]
  },
  {
   "cell_type": "code",
   "execution_count": null,
   "metadata": {},
   "outputs": [],
   "source": []
  }
 ],
 "metadata": {
  "colab": {
   "collapsed_sections": [],
   "name": "BP_Iris.ipynb",
   "provenance": [],
   "version": "0.3.2"
  },
  "kernelspec": {
   "display_name": "Python 3",
   "language": "python",
   "name": "python3"
  },
  "language_info": {
   "codemirror_mode": {
    "name": "ipython",
    "version": 3
   },
   "file_extension": ".py",
   "mimetype": "text/x-python",
   "name": "python",
   "nbconvert_exporter": "python",
   "pygments_lexer": "ipython3",
   "version": "3.7.4"
  }
 },
 "nbformat": 4,
 "nbformat_minor": 1
}
