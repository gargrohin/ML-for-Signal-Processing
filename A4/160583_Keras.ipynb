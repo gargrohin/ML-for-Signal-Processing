{
 "cells": [
  {
   "cell_type": "code",
   "execution_count": 1,
   "metadata": {
    "colab": {},
    "colab_type": "code",
    "id": "jLDisQ6gAaMQ"
   },
   "outputs": [],
   "source": [
    "import numpy as np\n",
    "import matplotlib.pyplot as plt\n",
    "import sklearn\n",
    "from sklearn.datasets import load_iris"
   ]
  },
  {
   "cell_type": "code",
   "execution_count": 20,
   "metadata": {},
   "outputs": [],
   "source": [
    "import keras\n",
    "from keras.models import Sequential\n",
    "from keras.layers import Dense\n",
    "from keras.optimizers import SGD"
   ]
  },
  {
   "cell_type": "code",
   "execution_count": 23,
   "metadata": {
    "colab": {
     "base_uri": "https://localhost:8080/",
     "height": 51
    },
    "colab_type": "code",
    "id": "pwyZu2ibAhO1",
    "outputId": "01503b88-86a2-4619-d029-6ba8a7632cd8"
   },
   "outputs": [],
   "source": [
    "def loadIrisData():\n",
    "    iris = load_iris()\n",
    "    X=iris['data']\n",
    "    t=iris['target']\n",
    "#     print(X.shape)\n",
    "#     print(t.shape)\n",
    "    return X, t"
   ]
  },
  {
   "cell_type": "code",
   "execution_count": 3,
   "metadata": {
    "colab": {},
    "colab_type": "code",
    "id": "48_5__HzBks_"
   },
   "outputs": [],
   "source": [
    "def one_hot_encoding(t_indices, N):\n",
    "    '''\n",
    "    Inputs:\n",
    "        t_indices: list of indices\n",
    "        N: total no. of classes\n",
    "    '''\n",
    "#     c_1hot = np.zeros(N)\n",
    "    t_1hot = np.zeros([len(t_indices), N])\n",
    "    i = 0\n",
    "    for x in t_indices:\n",
    "        t_1hot[i][x] = 1\n",
    "        i+=1\n",
    "    assert N>max(t_indices), (N, max(t_indices))\n",
    "\n",
    "    ### WRITE YOUR CODE HERE - 2 MARKS\n",
    "\n",
    "    return t_1hot"
   ]
  },
  {
   "cell_type": "code",
   "execution_count": 4,
   "metadata": {
    "colab": {},
    "colab_type": "code",
    "id": "m2DsnXa89lIk"
   },
   "outputs": [
    {
     "name": "stdout",
     "output_type": "stream",
     "text": [
      "Test passed 👍\n"
     ]
    }
   ],
   "source": [
    "def test_one_hot_encoding():\n",
    "    t_1hot = one_hot_encoding([0,2], 3)\n",
    "    t_1hotTrue = np.array([[1.,0.,0.], [0.,0.,1.]])\n",
    "    assert np.all(np.isclose( t_1hot, t_1hotTrue ))\n",
    "    print('Test passed', '\\U0001F44D')\n",
    "if __name__==\"__main__\":\n",
    "    test_one_hot_encoding()"
   ]
  },
  {
   "cell_type": "code",
   "execution_count": 5,
   "metadata": {
    "colab": {},
    "colab_type": "code",
    "id": "VXxxA2YkB_I8"
   },
   "outputs": [],
   "source": [
    "np.random.seed(0)\n",
    "\n",
    "def splitData(X,t,testFraction=0.2):\n",
    "    \"\"\"\n",
    "    Use numpy functions only\n",
    "    Inputs:\n",
    "        X: np array of shape (Nsamples, dim)\n",
    "        t: np array of len Nsamples; can be one hot vectors or labels\n",
    "        testFraction: (float) Nsamples_test = testFraction * Nsamples\n",
    "    \"\"\"\n",
    "\n",
    "    ### WRITE YOUR CODE HERE - 2 MARKS\n",
    "    np.random.seed(0)\n",
    "    N = t.shape[0]\n",
    "    indices = np.arange(N)\n",
    "    np.random.shuffle(indices)\n",
    "    train_indices = indices[int(testFraction*N):]\n",
    "    test_indices = indices[:int(testFraction*N)]\n",
    "    X_train = X[train_indices]\n",
    "    t_train = t[train_indices]\n",
    "    X_test = X[test_indices]\n",
    "    t_test = t[test_indices]\n",
    "\n",
    "    return X_train, t_train, X_test, t_test"
   ]
  },
  {
   "cell_type": "code",
   "execution_count": 6,
   "metadata": {},
   "outputs": [
    {
     "name": "stdout",
     "output_type": "stream",
     "text": [
      "Test passed 👍\n"
     ]
    }
   ],
   "source": [
    "def test_splitData():\n",
    "    X = np.random.random((5,2))\n",
    "    t1hot = one_hot_encoding([1,0,2,1,2],3)\n",
    "    X_train, t1hot_train, X_test, t1hot_test = splitData(X,t1hot,.2)\n",
    "    assert X_train.shape==(4,2), [\"X_train.shape\", X_train.shape]\n",
    "    assert X_test.shape==(1,2), [\"X_test.shape\", X_test.shape]\n",
    "    print('Test passed', '\\U0001F44D')    \n",
    "if __name__==\"__main__\":\n",
    "    test_splitData()"
   ]
  },
  {
   "cell_type": "code",
   "execution_count": 7,
   "metadata": {
    "colab": {},
    "colab_type": "code",
    "id": "OK2lZ6ZpCjAg"
   },
   "outputs": [],
   "source": [
    "### Normalize data to be of zero mean and unit variance\n",
    "def normalizeX(X_train, X_test):\n",
    "    '''\n",
    "    Inputs:\n",
    "        X_train: np array 2d\n",
    "        X_test: np array 2d\n",
    "    Outputs:\n",
    "        Normalized np arrays 2d\n",
    "    '''\n",
    "\n",
    "    ### WRITE YOUR CODE HERE - 2 MARKS\n",
    "    X_train_normalized = (X_train - np.mean(X_train,axis = 0))\n",
    "    X_train_normalized = X_train_normalized /np.sqrt(np.var(X_train_normalized, axis = 0))\n",
    "    X_test_normalized = (X_test - np.mean(X_train, axis = 0))\n",
    "    X_test_normalized = X_test_normalized/np.sqrt(np.var(X_train, axis = 0))\n",
    "    return X_train_normalized, X_test_normalized"
   ]
  },
  {
   "cell_type": "code",
   "execution_count": 8,
   "metadata": {},
   "outputs": [
    {
     "name": "stdout",
     "output_type": "stream",
     "text": [
      "Test passed 👍\n"
     ]
    }
   ],
   "source": [
    "def test_normalizeX():\n",
    "    X_train = np.array([[1,1,0],[2,2,1]])\n",
    "    X_test = np.array([[1,1,0],[3,3,2]])\n",
    "    X_train_normalized, X_test_normalized = normalizeX(X_train, X_test)\n",
    "    a = np.array([[-1.,-1.,-1.], [ 1., 1., 1.]])\n",
    "    b = np.array([[-1.,-1.,-1.], [ 3., 3., 3.]])\n",
    "    assert np.all(np.isclose( X_train_normalized, a )), a\n",
    "    assert np.all(np.isclose( X_test_normalized, b )), b\n",
    "    print('Test passed', '\\U0001F44D')    \n",
    "if __name__==\"__main__\":\n",
    "    test_normalizeX()"
   ]
  },
  {
   "cell_type": "code",
   "execution_count": 35,
   "metadata": {
    "colab": {
     "base_uri": "https://localhost:8080/",
     "height": 68
    },
    "colab_type": "code",
    "id": "fmR8F2JIFwqm",
    "outputId": "fa868689-92c8-4a43-882f-3321cde1a301"
   },
   "outputs": [],
   "source": [
    "### Lastly, report the accuracy of your model and print the Confusion Matrix\n",
    "#printing the confusion matrix\n",
    "def getCM(y,t,no):\n",
    "    '''\n",
    "    Inputs:\n",
    "        y: estimated labels np array (Nsample,1)\n",
    "        t: targets np array (Nsamples,1)\n",
    "    Outputs:\n",
    "        CM : np array of confusion matrix\n",
    "    '''\n",
    "\n",
    "    ### WRITE YOUR CODE HERE - 3 MARKS\n",
    "    \n",
    "    acc = 0\n",
    "    CM = np.zeros((no,no))\n",
    "    for i in range(len(y)):\n",
    "        CM[t[i]][y[i]] +=1\n",
    "        if y[i] == t[i]:\n",
    "            acc+=1\n",
    "    print(\"Test Accuracy: {}\".format(acc/len(y)))      \n",
    "    \n",
    "    \n",
    "\n",
    "    return CM"
   ]
  },
  {
   "cell_type": "markdown",
   "metadata": {},
   "source": [
    "#### Part a (i): sigmoid and Mean squared Loss"
   ]
  },
  {
   "cell_type": "code",
   "execution_count": 36,
   "metadata": {
    "colab": {
     "base_uri": "https://localhost:8080/",
     "height": 51
    },
    "colab_type": "code",
    "id": "hewsBv12weZ2",
    "outputId": "52407420-e7e5-4ca6-952b-6448ffe4b101",
    "scrolled": false
   },
   "outputs": [
    {
     "name": "stdout",
     "output_type": "stream",
     "text": [
      "Test Accuracy: 1.0\n",
      "Confusion Matrix on test data. X axis are predicted, Y axis are ground truth\n",
      "[[11.  0.  0.]\n",
      " [ 0. 13.  0.]\n",
      " [ 0.  0.  6.]]\n"
     ]
    },
    {
     "data": {
      "image/png": "[encoded data removed]",
      "text/plain": [
       "<Figure size 432x288 with 1 Axes>"
      ]
     },
     "metadata": {
      "needs_background": "light"
     },
     "output_type": "display_data"
    }
   ],
   "source": [
    "np.random.seed(0)\n",
    "\n",
    "def experiment():\n",
    "\n",
    "    ### WRITE YOUR CODE HERE - 10 MARKS\n",
    "    \n",
    "    X,t = loadIrisData()\n",
    "    classes = []\n",
    "    for y in t:\n",
    "        if y not in classes:\n",
    "            classes.append(y)\n",
    "    \n",
    "    no = len(classes)\n",
    "    \n",
    "    X_train, t_train, X_test, t_test = splitData(X,t)\n",
    "    X_train , X_test = normalizeX(X_train, X_test)\n",
    "    t_train = one_hot_encoding(t_train , no)\n",
    "    \n",
    "    model = Sequential()\n",
    "    model.add(Dense(5, input_dim=4, activation='sigmoid'))\n",
    "    model.add(Dense(3, activation='sigmoid'))\n",
    "    \n",
    "    # Optimizer\n",
    "    sgd = SGD(lr=0.01, decay=0, momentum=0.9)\n",
    "    \n",
    "    #Compile keras\n",
    "    model.compile(loss='mean_squared_error', optimizer=sgd, metrics=['accuracy'])\n",
    "    \n",
    "    epochs = 200\n",
    "    #Fit\n",
    "    store = model.fit(X_train, t_train, epochs=epochs,batch_size=1,verbose=0)\n",
    "    \n",
    "    loss = store.history['loss']\n",
    "    \n",
    "    plt.plot(loss)\n",
    "    plt.xlabel(\"Epoch\")\n",
    "    plt.ylabel(\"Loss\")\n",
    "    \n",
    "    y_pred = model.predict(X_test)\n",
    "    y_pred = np.argmax(y_pred.T, axis = 0)\n",
    "    \n",
    "    CM = getCM(y_pred,t_test,no)\n",
    "    print(\"Confusion Matrix on test data. X axis are predicted, Y axis are ground truth\")\n",
    "    print(CM)\n",
    "\n",
    "    \n",
    "if __name__==\"__main__\":\n",
    "    experiment()"
   ]
  },
  {
   "cell_type": "markdown",
   "metadata": {},
   "source": [
    "#### Part a (ii): softmax and Categorical Cross Entropy Loss"
   ]
  },
  {
   "cell_type": "code",
   "execution_count": 37,
   "metadata": {
    "colab": {
     "base_uri": "https://localhost:8080/",
     "height": 51
    },
    "colab_type": "code",
    "id": "hewsBv12weZ2",
    "outputId": "52407420-e7e5-4ca6-952b-6448ffe4b101",
    "scrolled": false
   },
   "outputs": [
    {
     "name": "stdout",
     "output_type": "stream",
     "text": [
      "Test Accuracy: 1.0\n",
      "Confusion Matrix on test data. X axis are predicted, Y axis are ground truth\n",
      "[[11.  0.  0.]\n",
      " [ 0. 13.  0.]\n",
      " [ 0.  0.  6.]]\n"
     ]
    },
    {
     "data": {
      "image/png": "[encoded data removed]",
      "text/plain": [
       "<Figure size 432x288 with 1 Axes>"
      ]
     },
     "metadata": {
      "needs_background": "light"
     },
     "output_type": "display_data"
    }
   ],
   "source": [
    "np.random.seed(0)\n",
    "\n",
    "def experiment():\n",
    "\n",
    "    ### WRITE YOUR CODE HERE - 10 MARKS\n",
    "    \n",
    "    X,t = loadIrisData()\n",
    "    classes = []\n",
    "    for y in t:\n",
    "        if y not in classes:\n",
    "            classes.append(y)\n",
    "    \n",
    "    no = len(classes)\n",
    "    \n",
    "    X_train, t_train, X_test, t_test = splitData(X,t)\n",
    "    X_train , X_test = normalizeX(X_train, X_test)\n",
    "    t_train = one_hot_encoding(t_train , no)\n",
    "    \n",
    "    model = Sequential()\n",
    "    model.add(Dense(5, input_dim=4, activation='sigmoid'))\n",
    "    model.add(Dense(3, activation='softmax'))\n",
    "    \n",
    "    # Optimizer\n",
    "    sgd = SGD(lr=0.01, decay=0, momentum=0.9)\n",
    "    \n",
    "    #Compile keras\n",
    "    model.compile(loss='categorical_crossentropy', optimizer=sgd, metrics=['accuracy'])\n",
    "    \n",
    "    epochs = 50\n",
    "    #Fit\n",
    "    store = model.fit(X_train, t_train, epochs=epochs,batch_size=1,verbose=0)\n",
    "    \n",
    "    loss = store.history['loss']\n",
    "    \n",
    "    plt.plot(loss)\n",
    "    plt.xlabel(\"Epoch\")\n",
    "    plt.ylabel(\"Loss\")\n",
    "    \n",
    "    y_pred = model.predict(X_test)\n",
    "    y_pred = np.argmax(y_pred.T, axis = 0)\n",
    "    \n",
    "    CM = getCM(y_pred,t_test,no)\n",
    "    print(\"Confusion Matrix on test data. X axis are predicted, Y axis are ground truth\")\n",
    "    print(CM)\n",
    "\n",
    "    \n",
    "if __name__==\"__main__\":\n",
    "    experiment()"
   ]
  },
  {
   "cell_type": "code",
   "execution_count": null,
   "metadata": {},
   "outputs": [],
   "source": []
  }
 ],
 "metadata": {
  "colab": {
   "collapsed_sections": [],
   "name": "BP_Iris.ipynb",
   "provenance": [],
   "version": "0.3.2"
  },
  "kernelspec": {
   "display_name": "Python 3",
   "language": "python",
   "name": "python3"
  },
  "language_info": {
   "codemirror_mode": {
    "name": "ipython",
    "version": 3
   },
   "file_extension": ".py",
   "mimetype": "text/x-python",
   "name": "python",
   "nbconvert_exporter": "python",
   "pygments_lexer": "ipython3",
   "version": "3.7.4"
  }
 },
 "nbformat": 4,
 "nbformat_minor": 1
}
